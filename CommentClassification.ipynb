{
  "cells": [
    {
      "cell_type": "markdown",
      "metadata": {
        "id": "view-in-github",
        "colab_type": "text"
      },
      "source": [
        "<a href=\"https://colab.research.google.com/github/muhammedkoussa/CommentClassification/blob/main/CommentClassification.ipynb\" target=\"_parent\"><img src=\"https://colab.research.google.com/assets/colab-badge.svg\" alt=\"Open In Colab\"/></a>"
      ]
    },
    {
      "cell_type": "code",
      "source": [
        "from transformers import AutoModelForSequenceClassification, AutoTokenizer, pipeline\n",
        "\n",
        "model = AutoModelForSequenceClassification.from_pretrained(\"savasy/bert-base-turkish-sentiment-cased\")\n",
        "tokenizer = AutoTokenizer.from_pretrained(\"savasy/bert-base-turkish-sentiment-cased\")\n",
        "sa = pipeline(\"sentiment-analysis\", tokenizer=tokenizer, model=model)\n",
        "\n",
        "p = sa(\"lezzeti iyiydi ama servis yemeyi istemek zordu ayrıca kurye baya vakit sonra geldi.\")\n",
        "\n",
        "print(p)\n",
        "\n",
        "p = sa(\"biraz soğumuş olsa da yemekte çok iyi bir sos vardı afiyetle yedim, öneririm.\")\n",
        "\n",
        "print(p)\n"
      ],
      "metadata": {
        "colab": {
          "base_uri": "https://localhost:8080/"
        },
        "id": "AgtWuOm6vrDu",
        "outputId": "0b8183bc-c270-4e7f-b35e-0be83b476c61"
      },
      "execution_count": null,
      "outputs": [
        {
          "output_type": "stream",
          "name": "stdout",
          "text": [
            "[{'label': 'negative', 'score': 0.995932400226593}]\n",
            "[{'label': 'positive', 'score': 0.9022506475448608}]\n"
          ]
        }
      ]
    },
    {
      "cell_type": "code",
      "source": [
        "def score_to_rating(sentiment_result):\n",
        "    score = sentiment_result[0]['score']  # Sonuçtan skoru al\n",
        "    if sentiment_result[0]['label'] == 'LABEL_0':  # 'LABEL_0' negatif etiketi\n",
        "        # Eğer sonuç negatifse, puanı 5'ten çıkarır\n",
        "        rating = 5 - abs(score) * 4\n",
        "    else:\n",
        "        # Skoru 1 ile 5 arasında bir değere dönüştürme\n",
        "        rating = 1 + (score * 4)\n",
        "    return rating\n",
        "\n",
        "# Örnek kullanım\n",
        "p = [{'label': 'LABEL_1', 'score': 0.9871089}]  # Örnek bir duyarlık sonucu\n",
        "rating = score_to_rating(p)\n",
        "print(\"Rating:\", rating)\n"
      ],
      "metadata": {
        "colab": {
          "base_uri": "https://localhost:8080/"
        },
        "id": "bHUeCw_ud6Dt",
        "outputId": "2acbed16-d4fe-4ccb-b222-9e522152be08"
      },
      "execution_count": null,
      "outputs": [
        {
          "output_type": "stream",
          "name": "stdout",
          "text": [
            "Rating: 4.9484356\n"
          ]
        }
      ]
    },
    {
      "cell_type": "code",
      "source": [
        "#deneme1\n",
        "def main():\n",
        "    while True:\n",
        "        # Kullanıcıdan giriş al\n",
        "        text = input(\"Lütfen bir metin girin veya 'exit' yazarak çıkın: \")\n",
        "\n",
        "        # 'exit' komutunu kontrol et\n",
        "        if text.lower() == 'exit':\n",
        "            print(\"Programdan çıkılıyor...\")\n",
        "            break\n",
        "\n",
        "        # Modeli kullanarak metin üzerinde duygu analizi yapma\n",
        "        result = sa(text)\n",
        "\n",
        "        # Sonucu yazdırma\n",
        "        print(\"Sonuç:\")\n",
        "\n",
        "        for res in result:\n",
        "            print(f\"Etiket: {res['label']}, Puan: {score_to_rating(res['score'])}\")\n",
        "        if res['label'] == 'LABEL_0':  # Eğer etiket negatifse\n",
        "                res['score'] -= 5  # Skoru 5'ten çıkar\n",
        "\n",
        "\n",
        "        # Tekrar giriş istemeden çık\n",
        "        break\n",
        "\n",
        "if __name__ == \"__main__\":\n",
        "    main()\n"
      ],
      "metadata": {
        "colab": {
          "base_uri": "https://localhost:8080/"
        },
        "id": "FPXh8SjnN6qe",
        "outputId": "4bb2060e-3111-47f7-8b26-06c644004f2c"
      },
      "execution_count": null,
      "outputs": [
        {
          "output_type": "stream",
          "name": "stdout",
          "text": [
            "Lütfen bir metin girin veya 'exit' yazarak çıkın: yemek kötüydü\n",
            "Sonuç:\n",
            "Etiket: negative, Puan: 4.9928297996521\n"
          ]
        }
      ]
    },
    {
      "cell_type": "code",
      "source": [
        "#deneme2\n",
        "def main():\n",
        "    while True:\n",
        "        # Kullanıcıdan giriş al\n",
        "        text = input(\"Lütfen bir metin girin veya 'exit' yazarak çıkın: \")\n",
        "\n",
        "        # 'exit' komutunu kontrol et\n",
        "        if text.lower() == 'exit':\n",
        "            print(\"Programdan çıkılıyor...\")\n",
        "            break\n",
        "\n",
        "        # Modeli kullanarak metin üzerinde duygu analizi yapma\n",
        "        result = sa(text)\n",
        "\n",
        "        # Sonucu yazdırma\n",
        "        print(\"Sonuç:\")\n",
        "        for res in result:\n",
        "            if res['label'] == 'LABEL_0':  # Eğer etiket negatifse\n",
        "                res['score'] -= 5  # Skoru 5'ten çıkar\n",
        "            #print(f\"Etiket: {res['label']}, Puan: {score_to_rating(res['score'])}\")\n",
        "            print(f\"Etiket: {res['label']}, Puan: {res['score']}\")\n",
        "\n",
        "        # Tekrar giriş istemeden çık\n",
        "        break\n",
        "\n",
        "if __name__ == \"__main__\":\n",
        "    main()\n"
      ],
      "metadata": {
        "colab": {
          "base_uri": "https://localhost:8080/"
        },
        "id": "M9RZW_ctmRAC",
        "outputId": "eb10cd52-ee9a-4f12-f963-89da906a9271"
      },
      "execution_count": null,
      "outputs": [
        {
          "output_type": "stream",
          "name": "stdout",
          "text": [
            "Lütfen bir metin girin veya 'exit' yazarak çıkın: yemek iyiydi\n",
            "Sonuç:\n",
            "Etiket: positive, Puan: 0.6535431742668152\n"
          ]
        }
      ]
    },
    {
      "cell_type": "code",
      "source": [
        "#düzgün çalışıyor\n",
        "import math\n",
        "def main():\n",
        "    while True:\n",
        "        # Kullanıcıdan giriş al\n",
        "        text = input(\"Lütfen bir metin girin veya 'exit' yazarak çıkın: \")\n",
        "\n",
        "        # 'exit' komutunu kontrol et\n",
        "        if text.lower() == 'exit':\n",
        "            print(\"Programdan çıkılıyor...\")\n",
        "            break\n",
        "\n",
        "        # Modeli kullanarak metin üzerinde duygu analizi yapma\n",
        "        result = sa(text)\n",
        "\n",
        "        # Sonucu yazdırma\n",
        "        print(\"Sonuç:\")\n",
        "        print(result)\n",
        "        score = result[0]['score']\n",
        "\n",
        "        if result[0]['label'] == 'negative':  # Eğer etiket negatifse\n",
        "          score = 5 - (score*5)  # Skoru 5'ten çıkar\n",
        "        else:\n",
        "          score = score *5\n",
        "\n",
        "        score = math.ceil(score)\n",
        "\n",
        "\n",
        "        print(score)\n",
        "\n",
        "        # Tekrar giriş istemeden çık\n",
        "        break\n",
        "\n",
        "if __name__ == \"__main__\":\n",
        "    main()\n"
      ],
      "metadata": {
        "colab": {
          "base_uri": "https://localhost:8080/"
        },
        "id": "FvWOGleBnJu5",
        "outputId": "39d76449-6257-4a66-bbcc-0d8e203822dd"
      },
      "execution_count": null,
      "outputs": [
        {
          "output_type": "stream",
          "name": "stdout",
          "text": [
            "Lütfen bir metin girin veya 'exit' yazarak çıkın: yemeği beğendim ama geç geldi\n",
            "Sonuç:\n",
            "[{'label': 'negative', 'score': 0.9974555373191833}]\n",
            "1\n"
          ]
        }
      ]
    },
    {
      "cell_type": "code",
      "source": [
        "#düzgün çalışıyor\n",
        "import math\n",
        "def main():\n",
        "    while True:\n",
        "        # Kullanıcıdan giriş al\n",
        "        text = input(\"Lütfen bir metin girin veya 'exit' yazarak çıkın: \")\n",
        "\n",
        "        # 'exit' komutunu kontrol et\n",
        "        if text.lower() == 'exit':\n",
        "            print(\"Programdan çıkılıyor...\")\n",
        "            break\n",
        "\n",
        "        # Modeli kullanarak metin üzerinde duygu analizi yapma\n",
        "        result = sa(text)\n",
        "\n",
        "        # Sonucu yazdırma\n",
        "        print(\"Sonuç:\")\n",
        "        print(result)\n",
        "        score = result[0]['score']\n",
        "\n",
        "        if result[0]['label'] == 'negative':  # Eğer etiket negatifse\n",
        "          score = 5 - (score*5)  # Skoru 5'ten çıkar\n",
        "        else:\n",
        "          score = score *5\n",
        "\n",
        "        score = math.ceil(score)\n",
        "        stars = 'Yıldız' * score\n",
        "        print(f\"{score} {stars}\")\n",
        "\n",
        "\n",
        "        # Tekrar giriş istemeden çık\n",
        "        break\n",
        "\n",
        "if __name__ == \"__main__\":\n",
        "    main()\n"
      ],
      "metadata": {
        "colab": {
          "base_uri": "https://localhost:8080/"
        },
        "id": "b78DtXNexp1a",
        "outputId": "5d5cbe4a-6123-45a0-d4c0-96732db83fb9"
      },
      "execution_count": null,
      "outputs": [
        {
          "output_type": "stream",
          "name": "stdout",
          "text": [
            "Lütfen bir metin girin veya 'exit' yazarak çıkın: yemek kötüydü ama hızlı geldi\n",
            "Sonuç:\n",
            "[{'label': 'negative', 'score': 0.9959108829498291}]\n",
            "1 Yıldız\n"
          ]
        }
      ]
    }
  ],
  "metadata": {
    "colab": {
      "provenance": [],
      "authorship_tag": "ABX9TyP25iDbwZlkCpwRwLK4L9VQ",
      "include_colab_link": true
    },
    "kernelspec": {
      "display_name": "Python 3",
      "name": "python3"
    },
    "language_info": {
      "name": "python"
    }
  },
  "nbformat": 4,
  "nbformat_minor": 0
}